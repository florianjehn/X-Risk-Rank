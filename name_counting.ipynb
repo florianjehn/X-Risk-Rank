{
 "cells": [
  {
   "cell_type": "code",
   "execution_count": 1,
   "metadata": {},
   "outputs": [],
   "source": [
    "# Import the actual code\n",
    "from utils import extract_authors\n",
    "from utils import clean_author_names\n",
    "from utils import create_author_count_dataframe"
   ]
  },
  {
   "cell_type": "code",
   "execution_count": 2,
   "metadata": {},
   "outputs": [],
   "source": [
    "# Import necessary libraries\n",
    "import pandas as pd"
   ]
  },
  {
   "cell_type": "code",
   "execution_count": 3,
   "metadata": {},
   "outputs": [],
   "source": [
    "# Define the method. This defines which dataset to use, based on TERRA: https://terra.cser.ac.uk/\n",
    "# method can be \"manual\", \"low_recall\", \"medium_recall\", \"high_recall\"\n",
    "method = \"manual\""
   ]
  },
  {
   "cell_type": "code",
   "execution_count": 4,
   "metadata": {},
   "outputs": [
    {
     "data": {
      "text/html": [
       "<div>\n",
       "<style scoped>\n",
       "    .dataframe tbody tr th:only-of-type {\n",
       "        vertical-align: middle;\n",
       "    }\n",
       "\n",
       "    .dataframe tbody tr th {\n",
       "        vertical-align: top;\n",
       "    }\n",
       "\n",
       "    .dataframe thead th {\n",
       "        text-align: right;\n",
       "    }\n",
       "</style>\n",
       "<table border=\"1\" class=\"dataframe\">\n",
       "  <thead>\n",
       "    <tr style=\"text-align: right;\">\n",
       "      <th></th>\n",
       "      <th>Authors</th>\n",
       "      <th>Year</th>\n",
       "      <th>Title</th>\n",
       "      <th>Journal</th>\n",
       "      <th>Volume</th>\n",
       "      <th>Issue</th>\n",
       "      <th>DOI</th>\n",
       "      <th>Number_of_Assessments</th>\n",
       "      <th>Number_Relevant</th>\n",
       "      <th>Relevance</th>\n",
       "    </tr>\n",
       "  </thead>\n",
       "  <tbody>\n",
       "    <tr>\n",
       "      <th>0</th>\n",
       "      <td>Denkenberger D., Turchin A.</td>\n",
       "      <td>2018</td>\n",
       "      <td>Global catastrophic and existential risks comm...</td>\n",
       "      <td>Futures</td>\n",
       "      <td>NaN</td>\n",
       "      <td>NaN</td>\n",
       "      <td>10.1016/j.futures.2018.01.003</td>\n",
       "      <td>19</td>\n",
       "      <td>19</td>\n",
       "      <td>19.0</td>\n",
       "    </tr>\n",
       "    <tr>\n",
       "      <th>1</th>\n",
       "      <td>Blair R.W., Denkenberger D.C.</td>\n",
       "      <td>2018</td>\n",
       "      <td>Interventions that may prevent or mollify supe...</td>\n",
       "      <td>Futures</td>\n",
       "      <td>NaN</td>\n",
       "      <td>NaN</td>\n",
       "      <td>10.1016/j.futures.2018.01.002</td>\n",
       "      <td>13</td>\n",
       "      <td>13</td>\n",
       "      <td>13.0</td>\n",
       "    </tr>\n",
       "    <tr>\n",
       "      <th>2</th>\n",
       "      <td>Wintle B.C., Sutherland W.J., Rees M.J., Avin ...</td>\n",
       "      <td>2018</td>\n",
       "      <td>Classifying global catastrophic risks</td>\n",
       "      <td>Futures</td>\n",
       "      <td>NaN</td>\n",
       "      <td>NaN</td>\n",
       "      <td>10.1016/j.futures.2018.02.001</td>\n",
       "      <td>14</td>\n",
       "      <td>13</td>\n",
       "      <td>12.0</td>\n",
       "    </tr>\n",
       "    <tr>\n",
       "      <th>3</th>\n",
       "      <td>Gloor L., Sotala K.</td>\n",
       "      <td>2017</td>\n",
       "      <td>Superintelligence as a cause or cure for risks...</td>\n",
       "      <td>Informatica (Slovenia)</td>\n",
       "      <td>41</td>\n",
       "      <td>4</td>\n",
       "      <td>NaN</td>\n",
       "      <td>12</td>\n",
       "      <td>12</td>\n",
       "      <td>12.0</td>\n",
       "    </tr>\n",
       "    <tr>\n",
       "      <th>4</th>\n",
       "      <td>Halstead J.</td>\n",
       "      <td>2018</td>\n",
       "      <td>Stratospheric aerosol injection research and e...</td>\n",
       "      <td>Futures</td>\n",
       "      <td>NaN</td>\n",
       "      <td>NaN</td>\n",
       "      <td>10.1016/j.futures.2018.03.004</td>\n",
       "      <td>11</td>\n",
       "      <td>11</td>\n",
       "      <td>11.0</td>\n",
       "    </tr>\n",
       "  </tbody>\n",
       "</table>\n",
       "</div>"
      ],
      "text/plain": [
       "                                             Authors  Year  \\\n",
       "0                        Denkenberger D., Turchin A.  2018   \n",
       "1                      Blair R.W., Denkenberger D.C.  2018   \n",
       "2  Wintle B.C., Sutherland W.J., Rees M.J., Avin ...  2018   \n",
       "3                                Gloor L., Sotala K.  2017   \n",
       "4                                        Halstead J.  2018   \n",
       "\n",
       "                                               Title                 Journal  \\\n",
       "0  Global catastrophic and existential risks comm...                 Futures   \n",
       "1  Interventions that may prevent or mollify supe...                 Futures   \n",
       "2              Classifying global catastrophic risks                 Futures   \n",
       "3  Superintelligence as a cause or cure for risks...  Informatica (Slovenia)   \n",
       "4  Stratospheric aerosol injection research and e...                 Futures   \n",
       "\n",
       "  Volume Issue                            DOI  Number_of_Assessments  \\\n",
       "0    NaN   NaN  10.1016/j.futures.2018.01.003                     19   \n",
       "1    NaN   NaN  10.1016/j.futures.2018.01.002                     13   \n",
       "2    NaN   NaN  10.1016/j.futures.2018.02.001                     14   \n",
       "3     41     4                            NaN                     12   \n",
       "4    NaN   NaN  10.1016/j.futures.2018.03.004                     11   \n",
       "\n",
       "   Number_Relevant  Relevance  \n",
       "0               19       19.0  \n",
       "1               13       13.0  \n",
       "2               13       12.0  \n",
       "3               12       12.0  \n",
       "4               11       11.0  "
      ]
     },
     "execution_count": 4,
     "metadata": {},
     "output_type": "execute_result"
    }
   ],
   "source": [
    "# Read in the data\n",
    "bib = pd.read_csv(\"bibliography_\" + method +\".csv\")\n",
    "bib.head()"
   ]
  },
  {
   "cell_type": "code",
   "execution_count": 5,
   "metadata": {},
   "outputs": [],
   "source": [
    "# Exclude the non relevant papers form the manual list\n",
    "if method == \"manual\":\n",
    "    bib = bib[bib[\"Relevance\"] > 0]"
   ]
  },
  {
   "cell_type": "code",
   "execution_count": 6,
   "metadata": {},
   "outputs": [],
   "source": [
    "# Drop all rows where authors are not present\n",
    "bib = bib.dropna(subset=['Authors'])"
   ]
  },
  {
   "cell_type": "code",
   "execution_count": 7,
   "metadata": {},
   "outputs": [
    {
     "name": "stdout",
     "output_type": "stream",
     "text": [
      "['Denkenberger D.', 'Turchin A.', 'Blair R.W.', 'Denkenberger D.C.', 'Wintle B.C.', 'Sutherland W.J.', 'Rees M.J.', 'Avin S.', 'Weitzdörfer J.', 'Ó hÉigeartaigh S.S.']\n"
     ]
    }
   ],
   "source": [
    "# Extract the names and put them all in one list\n",
    "authors = extract_authors(bib)\n",
    "print (authors[:10])"
   ]
  },
  {
   "cell_type": "code",
   "execution_count": 8,
   "metadata": {},
   "outputs": [
    {
     "name": "stdout",
     "output_type": "stream",
     "text": [
      "['Denkenbergerd', 'Turchina', 'Blairr', 'Denkenbergerd', 'Wintleb', 'Sutherlandw', 'Reesm', 'Avins', 'Weitzdörferj', 'Óhéigeartaighs']\n"
     ]
    }
   ],
   "source": [
    "# Unify the names in the same format of lastname + first initial.\n",
    "cleaned_authors = clean_author_names(authors)\n",
    "print(cleaned_authors[:10])"
   ]
  },
  {
   "cell_type": "code",
   "execution_count": 9,
   "metadata": {},
   "outputs": [
    {
     "data": {
      "text/html": [
       "<div>\n",
       "<style scoped>\n",
       "    .dataframe tbody tr th:only-of-type {\n",
       "        vertical-align: middle;\n",
       "    }\n",
       "\n",
       "    .dataframe tbody tr th {\n",
       "        vertical-align: top;\n",
       "    }\n",
       "\n",
       "    .dataframe thead th {\n",
       "        text-align: right;\n",
       "    }\n",
       "</style>\n",
       "<table border=\"1\" class=\"dataframe\">\n",
       "  <thead>\n",
       "    <tr style=\"text-align: right;\">\n",
       "      <th></th>\n",
       "      <th>Count</th>\n",
       "      <th>Name</th>\n",
       "    </tr>\n",
       "  </thead>\n",
       "  <tbody>\n",
       "    <tr>\n",
       "      <th>15</th>\n",
       "      <td>28</td>\n",
       "      <td>S. Baum</td>\n",
       "    </tr>\n",
       "    <tr>\n",
       "      <th>0</th>\n",
       "      <td>27</td>\n",
       "      <td>D. Denkenberger</td>\n",
       "    </tr>\n",
       "    <tr>\n",
       "      <th>22</th>\n",
       "      <td>20</td>\n",
       "      <td>J. Pearce</td>\n",
       "    </tr>\n",
       "    <tr>\n",
       "      <th>126</th>\n",
       "      <td>15</td>\n",
       "      <td>N. Bostrom</td>\n",
       "    </tr>\n",
       "    <tr>\n",
       "      <th>233</th>\n",
       "      <td>15</td>\n",
       "      <td>R. Yampolskiy</td>\n",
       "    </tr>\n",
       "  </tbody>\n",
       "</table>\n",
       "</div>"
      ],
      "text/plain": [
       "     Count             Name\n",
       "15      28          S. Baum\n",
       "0       27  D. Denkenberger\n",
       "22      20        J. Pearce\n",
       "126     15       N. Bostrom\n",
       "233     15    R. Yampolskiy"
      ]
     },
     "execution_count": 9,
     "metadata": {},
     "output_type": "execute_result"
    }
   ],
   "source": [
    "# Create the dataframe with all the names and counts\n",
    "count_df = create_author_count_dataframe(cleaned_authors)\n",
    "# Sort by count\n",
    "count_df = count_df.sort_values('Count', ascending=False)\n",
    "count_df.head()"
   ]
  },
  {
   "cell_type": "code",
   "execution_count": 10,
   "metadata": {},
   "outputs": [
    {
     "data": {
      "text/html": [
       "<div>\n",
       "<style scoped>\n",
       "    .dataframe tbody tr th:only-of-type {\n",
       "        vertical-align: middle;\n",
       "    }\n",
       "\n",
       "    .dataframe tbody tr th {\n",
       "        vertical-align: top;\n",
       "    }\n",
       "\n",
       "    .dataframe thead th {\n",
       "        text-align: right;\n",
       "    }\n",
       "</style>\n",
       "<table border=\"1\" class=\"dataframe\">\n",
       "  <thead>\n",
       "    <tr style=\"text-align: right;\">\n",
       "      <th></th>\n",
       "      <th>Count</th>\n",
       "      <th>Name</th>\n",
       "    </tr>\n",
       "  </thead>\n",
       "  <tbody>\n",
       "    <tr>\n",
       "      <th>0</th>\n",
       "      <td>28</td>\n",
       "      <td>S. Baum</td>\n",
       "    </tr>\n",
       "    <tr>\n",
       "      <th>1</th>\n",
       "      <td>27</td>\n",
       "      <td>D. Denkenberger</td>\n",
       "    </tr>\n",
       "    <tr>\n",
       "      <th>2</th>\n",
       "      <td>20</td>\n",
       "      <td>J. Pearce</td>\n",
       "    </tr>\n",
       "    <tr>\n",
       "      <th>3</th>\n",
       "      <td>15</td>\n",
       "      <td>N. Bostrom</td>\n",
       "    </tr>\n",
       "    <tr>\n",
       "      <th>4</th>\n",
       "      <td>15</td>\n",
       "      <td>R. Yampolskiy</td>\n",
       "    </tr>\n",
       "  </tbody>\n",
       "</table>\n",
       "</div>"
      ],
      "text/plain": [
       "   Count             Name\n",
       "0     28          S. Baum\n",
       "1     27  D. Denkenberger\n",
       "2     20        J. Pearce\n",
       "3     15       N. Bostrom\n",
       "4     15    R. Yampolskiy"
      ]
     },
     "execution_count": 10,
     "metadata": {},
     "output_type": "execute_result"
    }
   ],
   "source": [
    "# Reset the index of the dataframe\n",
    "count_df.reset_index(inplace=True, drop=True)\n",
    "count_df.head()"
   ]
  },
  {
   "cell_type": "code",
   "execution_count": 11,
   "metadata": {},
   "outputs": [
    {
     "data": {
      "image/png": "[encoded data removed]",
      "text/plain": [
       "<Figure size 450x450 with 1 Axes>"
      ]
     },
     "metadata": {},
     "output_type": "display_data"
    }
   ],
   "source": [
    "import matplotlib.pyplot as plt\n",
    "plt.style.use(\"https://raw.githubusercontent.com/allfed/ALLFED-matplotlib-style-sheet/main/ALLFED.mplstyle\")\n",
    "\n",
    "# Plot the first x names\n",
    "x = 25\n",
    "selection = count_df.iloc[0:x, :]\n",
    "\n",
    "# Sort the selection DataFrame in ascending order by the 'Count' column\n",
    "sorted_selection = selection.sort_values(by='Count', ascending=True)\n",
    "\n",
    "# Create labels with descending numbers and names\n",
    "labels = [f\"{x - i}) {name}\" for i, name in enumerate(sorted_selection['Name'])]\n",
    "\n",
    "# Create the plot\n",
    "fig, ax = plt.subplots(figsize=(x / 4, x / 4))\n",
    "ax.barh(labels, sorted_selection['Count'], color=\"#573280\")\n",
    "ax.yaxis.grid(False)\n",
    "ax.set_xlabel(\"Number of papers\")\n",
    "\n",
    "# Add a vertical line for every 10th name\n",
    "for i in range(0, x, 10):\n",
    "    ax.axhline(i, color='black', alpha=0.1, zorder=0)\n",
    "\n",
    "# Make the background opaque\n",
    "fig.patch.set_alpha(1)\n",
    "\n",
    "plt.savefig(\"author_count_\" + method + \".png\", dpi=300, bbox_inches='tight')\n",
    "plt.show()\n"
   ]
  },
  {
   "cell_type": "code",
   "execution_count": 12,
   "metadata": {},
   "outputs": [],
   "source": [
    "# Make a dictionary of names and their affiliation. \n",
    "affiliations = {\n",
    "    \"S. Baum\": \"GCRI\",\n",
    "    \"D. Denkenberger\": \"ALLFED\",\n",
    "    \"J. Pearce\": \"ALLFED\",\n",
    "    \"N. Bostrom\": \"FHI\",\n",
    "    \"R. Yampolskiy\": \"University of Louisville\",\n",
    "    \"P. Torres\": \"CSER\",\n",
    "    \"M. Ćirković\": \"Astronomical Observatory of Belgrade\",\n",
    "    \"B. Tonn\": \"University of Tennessee\",\n",
    "    \"A. Robock\": \"Rutgers University\",\n",
    "    \"O. Toon\": \"University of Colorado\",\n",
    "    \"J. Haqq-misra\": \"Blue Marble Space Institute of Science\",\n",
    "    \"L. Kemp\": \"CSER\",\n",
    "    \"A. Sandberg\": \"FHI\",\n",
    "    \"A. Turchin\": \"ALLFED\",\n",
    "    \"C. Bardeen\": \"National Center for Atmospheric Research\",\n",
    "    \"J. Leslie\": \"University of Guelph\",\n",
    "    \"G. Chichilnisky\": \"Columbia University\",\n",
    "    \"S. Armstrong\": \"FHI\",\n",
    "    \"P. Ehrlich\": \"Stanford University\",\n",
    "    \"H. Liu\": \"University of Copenhagen\",\n",
    "    \"J. Garcíamartínez\": \"ALLFED\",\n",
    "    \"D. Morrison\": \"Ames Research Center\",\n",
    "    \"R. Grieve\": \"University of Western Ontario\",\n",
    "    \"R. Tol\": \"University of Sussex\",\n",
    "    \"O. Häggström\": \"Chalmers University of Technology\"\n",
    "}"
   ]
  },
  {
   "cell_type": "code",
   "execution_count": 13,
   "metadata": {},
   "outputs": [
    {
     "data": {
      "text/html": [
       "<div>\n",
       "<style scoped>\n",
       "    .dataframe tbody tr th:only-of-type {\n",
       "        vertical-align: middle;\n",
       "    }\n",
       "\n",
       "    .dataframe tbody tr th {\n",
       "        vertical-align: top;\n",
       "    }\n",
       "\n",
       "    .dataframe thead th {\n",
       "        text-align: right;\n",
       "    }\n",
       "</style>\n",
       "<table border=\"1\" class=\"dataframe\">\n",
       "  <thead>\n",
       "    <tr style=\"text-align: right;\">\n",
       "      <th></th>\n",
       "      <th>Count</th>\n",
       "      <th>Name</th>\n",
       "      <th>Affiliation</th>\n",
       "    </tr>\n",
       "  </thead>\n",
       "  <tbody>\n",
       "    <tr>\n",
       "      <th>0</th>\n",
       "      <td>28</td>\n",
       "      <td>S. Baum</td>\n",
       "      <td>GCRI</td>\n",
       "    </tr>\n",
       "    <tr>\n",
       "      <th>1</th>\n",
       "      <td>27</td>\n",
       "      <td>D. Denkenberger</td>\n",
       "      <td>ALLFED</td>\n",
       "    </tr>\n",
       "    <tr>\n",
       "      <th>2</th>\n",
       "      <td>20</td>\n",
       "      <td>J. Pearce</td>\n",
       "      <td>ALLFED</td>\n",
       "    </tr>\n",
       "    <tr>\n",
       "      <th>3</th>\n",
       "      <td>15</td>\n",
       "      <td>N. Bostrom</td>\n",
       "      <td>FHI</td>\n",
       "    </tr>\n",
       "    <tr>\n",
       "      <th>4</th>\n",
       "      <td>15</td>\n",
       "      <td>R. Yampolskiy</td>\n",
       "      <td>University of Louisville</td>\n",
       "    </tr>\n",
       "  </tbody>\n",
       "</table>\n",
       "</div>"
      ],
      "text/plain": [
       "   Count             Name               Affiliation\n",
       "0     28          S. Baum                      GCRI\n",
       "1     27  D. Denkenberger                    ALLFED\n",
       "2     20        J. Pearce                    ALLFED\n",
       "3     15       N. Bostrom                       FHI\n",
       "4     15    R. Yampolskiy  University of Louisville"
      ]
     },
     "execution_count": 13,
     "metadata": {},
     "output_type": "execute_result"
    }
   ],
   "source": [
    "# Assign the people in the count_df an affilation based on the affiliation dictionary\n",
    "count_df['Affiliation'] = count_df['Name'].map(affiliations)\n",
    "count_df.head()"
   ]
  },
  {
   "cell_type": "code",
   "execution_count": 14,
   "metadata": {},
   "outputs": [
    {
     "data": {
      "image/png": "[encoded data removed]",
      "text/plain": [
       "<Figure size 720x432 with 1 Axes>"
      ]
     },
     "metadata": {},
     "output_type": "display_data"
    }
   ],
   "source": [
    "# Group by Affiliation and add up the counts\n",
    "grouped_affiliation = count_df.groupby('Affiliation').sum()\n",
    "# Sort the values in descending order\n",
    "sorted_affiliation = grouped_affiliation.sort_values(by='Count', ascending=False)\n",
    "# Make a bar plot of the top 5 affiliation\n",
    "fig, ax = plt.subplots(figsize=(6, 6))\n",
    "sorted_affiliation.head(5).plot(ax=ax, kind='bar', figsize=(10,6), rot=0, color=\"#573280\", legend=False)\n",
    "ax.xaxis.grid(False)\n",
    "ax.set_xlabel(\"Organization\")\n",
    "ax.set_ylabel(\"Overall output of affiliated authors\")\n",
    "\n",
    "# Make the background opaque\n",
    "fig.patch.set_alpha(1)\n",
    "\n",
    "plt.savefig(\"org_count_\" + method + \".png\", dpi=300, bbox_inches='tight')\n",
    "plt.show()"
   ]
  }
 ],
 "metadata": {
  "kernelspec": {
   "display_name": "pytradeshifts",
   "language": "python",
   "name": "pytradeshifts"
  },
  "language_info": {
   "codemirror_mode": {
    "name": "ipython",
    "version": 3
   },
   "file_extension": ".py",
   "mimetype": "text/x-python",
   "name": "python",
   "nbconvert_exporter": "python",
   "pygments_lexer": "ipython3",
   "version": "3.12.0"
  }
 },
 "nbformat": 4,
 "nbformat_minor": 2
}
